{
 "cells": [
  {
   "cell_type": "markdown",
   "id": "4178ae39",
   "metadata": {},
   "source": [
    "# CAT DOG CLASSIFIER"
   ]
  },
  {
   "cell_type": "code",
   "execution_count": 1,
   "id": "5d60743f",
   "metadata": {},
   "outputs": [],
   "source": [
    "import os, shutil"
   ]
  },
  {
   "cell_type": "code",
   "execution_count": 2,
   "id": "017766aa",
   "metadata": {},
   "outputs": [],
   "source": [
    "import tensorflow"
   ]
  },
  {
   "cell_type": "markdown",
   "id": "28ce9058",
   "metadata": {},
   "source": [
    "### Step1: Create directories for trainig and validation and testing"
   ]
  },
  {
   "cell_type": "code",
   "execution_count": 3,
   "id": "c1f67e33",
   "metadata": {},
   "outputs": [],
   "source": [
    "original_datset_dir=\"C:/Users/davidpratap/Desktop/ML_OPS/Day 3&4/kaggle_original_data/train\""
   ]
  },
  {
   "cell_type": "code",
   "execution_count": 6,
   "id": "f321f3f4",
   "metadata": {},
   "outputs": [],
   "source": [
    "shutil.rmtree(base_dir)"
   ]
  },
  {
   "cell_type": "code",
   "execution_count": 7,
   "id": "2628380e",
   "metadata": {},
   "outputs": [],
   "source": [
    "base_dir=\"C:/Users/davidpratap/Desktop/ML_OPS/Day 3&4/cats_dogs_small\"\n",
    "os.mkdir(base_dir)"
   ]
  },
  {
   "cell_type": "code",
   "execution_count": 8,
   "id": "64d115d6",
   "metadata": {},
   "outputs": [],
   "source": [
    "train_dir=\"C:/Users/davidpratap/Desktop/ML_OPS/Day 3&4/cats_dogs_small/train\"\n",
    "os.mkdir(train_dir)"
   ]
  },
  {
   "cell_type": "code",
   "execution_count": 9,
   "id": "80944464",
   "metadata": {},
   "outputs": [],
   "source": [
    "validation_dir=\"C:/Users/davidpratap/Desktop/ML_OPS/Day 3&4/cats_dogs_small/validation\"\n",
    "os.mkdir(validation_dir)"
   ]
  },
  {
   "cell_type": "code",
   "execution_count": 10,
   "id": "399d3974",
   "metadata": {},
   "outputs": [],
   "source": [
    "test_dir=\"C:/Users/davidpratap/Desktop/ML_OPS/Day 3&4/cats_dogs_small/test\"\n",
    "os.mkdir(test_dir)"
   ]
  },
  {
   "cell_type": "code",
   "execution_count": 11,
   "id": "4bf2b9e4",
   "metadata": {},
   "outputs": [],
   "source": [
    "train_cats_dir=\"C:/Users/davidpratap/Desktop/ML_OPS/Day 3&4/cats_dogs_small/train/cats\"\n",
    "os.mkdir(train_cats_dir)"
   ]
  },
  {
   "cell_type": "code",
   "execution_count": 12,
   "id": "0b064c80",
   "metadata": {},
   "outputs": [],
   "source": [
    "validation_cats_dir=\"C:/Users/davidpratap/Desktop/ML_OPS/Day 3&4/cats_dogs_small/validation/cats\"\n",
    "os.mkdir(validation_cats_dir)\n",
    "test_cats_dir=\"C:/Users/davidpratap/Desktop/ML_OPS/Day 3&4/cats_dogs_small/test/cats\"\n",
    "os.mkdir(test_cats_dir)"
   ]
  },
  {
   "cell_type": "code",
   "execution_count": 13,
   "id": "83443fb7",
   "metadata": {},
   "outputs": [],
   "source": [
    "train_dogs_dir=\"C:/Users/davidpratap/Desktop/ML_OPS/Day 3&4/cats_dogs_small/train/dogs\"\n",
    "os.mkdir(train_dogs_dir)\n",
    "validation_dogs_dir=\"C:/Users/davidpratap/Desktop/ML_OPS/Day 3&4/cats_dogs_small/validation/dogs\"\n",
    "os.mkdir(validation_dogs_dir)\n",
    "test_dogs_dir=\"C:/Users/davidpratap/Desktop/ML_OPS/Day 3&4/cats_dogs_small/test/dogs\"\n",
    "os.mkdir(test_dogs_dir)"
   ]
  },
  {
   "cell_type": "code",
   "execution_count": 14,
   "id": "e2d04fd1",
   "metadata": {},
   "outputs": [],
   "source": [
    "fnames=['cat.{}.jpg'.format(i) for i in range(1000)]\n",
    "for fname in fnames:\n",
    "    src=os.path.join(original_datset_dir, fname)\n",
    "    dst=os.path.join(train_cats_dir, fname)\n",
    "    shutil.copyfile(src, dst)"
   ]
  },
  {
   "cell_type": "code",
   "execution_count": 15,
   "id": "db9b753d",
   "metadata": {},
   "outputs": [],
   "source": [
    "fnames=['dog.{}.jpg'.format(i) for i in range(1000)]\n",
    "for fname in fnames:\n",
    "    src=os.path.join(original_datset_dir, fname)\n",
    "    dst=os.path.join(train_dogs_dir, fname)\n",
    "    shutil.copyfile(src, dst)"
   ]
  },
  {
   "cell_type": "code",
   "execution_count": 16,
   "id": "5f903be0",
   "metadata": {},
   "outputs": [],
   "source": [
    "fnames=['cat.{}.jpg'.format(i) for i in range(1000, 1500)]\n",
    "for fname in fnames:\n",
    "    src=os.path.join(original_datset_dir, fname)\n",
    "    dst=os.path.join(validation_cats_dir, fname)\n",
    "    shutil.copyfile(src, dst)\n",
    "fnames=['dog.{}.jpg'.format(i) for i in range(1000, 1500)]\n",
    "for fname in fnames:\n",
    "    src=os.path.join(original_datset_dir, fname)\n",
    "    dst=os.path.join(validation_dogs_dir, fname)\n",
    "    shutil.copyfile(src, dst)"
   ]
  },
  {
   "cell_type": "code",
   "execution_count": 17,
   "id": "388d25d4",
   "metadata": {},
   "outputs": [],
   "source": [
    "fnames=['cat.{}.jpg'.format(i) for i in range(1500, 2000)]\n",
    "for fname in fnames:\n",
    "    src=os.path.join(original_datset_dir, fname)\n",
    "    dst=os.path.join(test_cats_dir, fname)\n",
    "    shutil.copyfile(src, dst)\n",
    "fnames=['dog.{}.jpg'.format(i) for i in range(1500, 2000)]\n",
    "for fname in fnames:\n",
    "    src=os.path.join(original_datset_dir, fname)\n",
    "    dst=os.path.join(test_dogs_dir, fname)\n",
    "    shutil.copyfile(src, dst)"
   ]
  },
  {
   "cell_type": "code",
   "execution_count": 18,
   "id": "8e7e881f",
   "metadata": {},
   "outputs": [
    {
     "name": "stdout",
     "output_type": "stream",
     "text": [
      "No.of training cat images = 1000\n",
      "No.of validation cat images = 500\n",
      "No.of testing cat images = 500\n",
      "No.of training dog images = 1000\n",
      "No.of validation dog images = 500\n",
      "No.of testing dog images = 500\n"
     ]
    }
   ],
   "source": [
    "print(\"No.of training cat images =\",len(os.listdir(train_cats_dir)))\n",
    "print(\"No.of validation cat images =\",len(os.listdir(validation_cats_dir)))\n",
    "print(\"No.of testing cat images =\",len(os.listdir(test_cats_dir)))\n",
    "print(\"No.of training dog images =\",len(os.listdir(train_dogs_dir)))\n",
    "print(\"No.of validation dog images =\",len(os.listdir(validation_dogs_dir)))\n",
    "print(\"No.of testing dog images =\",len(os.listdir(test_dogs_dir)))"
   ]
  },
  {
   "cell_type": "markdown",
   "id": "d9964a88",
   "metadata": {},
   "source": [
    "### Step2: Instantiate a CNN Model"
   ]
  },
  {
   "cell_type": "code",
   "execution_count": 19,
   "id": "ecb21a12",
   "metadata": {},
   "outputs": [],
   "source": [
    "from tensorflow.keras.models import Sequential, load_model\n",
    "from tensorflow.keras.layers import Conv2D, MaxPooling2D, Dense, Flatten\n",
    "\n",
    "model=Sequential()\n",
    "model.add(Conv2D(32, (3,3), input_shape=(150, 150, 3), activation='relu'))\n",
    "model.add(MaxPooling2D(2,2))\n",
    "model.add(Conv2D(64, (3,3), activation='relu'))\n",
    "model.add(MaxPooling2D(2,2))\n",
    "model.add(Conv2D(128, (3,3), activation='relu'))\n",
    "model.add(MaxPooling2D(2,2))\n",
    "model.add(Conv2D(128, (3,3), activation='relu'))\n",
    "model.add(MaxPooling2D(2,2))\n",
    "model.add(Flatten())\n",
    "model.add(Dense(512, activation='relu'))\n",
    "model.add(Dense(1, activation='sigmoid'))"
   ]
  },
  {
   "cell_type": "code",
   "execution_count": 20,
   "id": "28f2fb1d",
   "metadata": {},
   "outputs": [
    {
     "name": "stdout",
     "output_type": "stream",
     "text": [
      "Model: \"sequential\"\n",
      "_________________________________________________________________\n",
      " Layer (type)                Output Shape              Param #   \n",
      "=================================================================\n",
      " conv2d (Conv2D)             (None, 148, 148, 32)      896       \n",
      "                                                                 \n",
      " max_pooling2d (MaxPooling2D  (None, 74, 74, 32)       0         \n",
      " )                                                               \n",
      "                                                                 \n",
      " conv2d_1 (Conv2D)           (None, 72, 72, 64)        18496     \n",
      "                                                                 \n",
      " max_pooling2d_1 (MaxPooling  (None, 36, 36, 64)       0         \n",
      " 2D)                                                             \n",
      "                                                                 \n",
      " conv2d_2 (Conv2D)           (None, 34, 34, 128)       73856     \n",
      "                                                                 \n",
      " max_pooling2d_2 (MaxPooling  (None, 17, 17, 128)      0         \n",
      " 2D)                                                             \n",
      "                                                                 \n",
      " conv2d_3 (Conv2D)           (None, 15, 15, 128)       147584    \n",
      "                                                                 \n",
      " max_pooling2d_3 (MaxPooling  (None, 7, 7, 128)        0         \n",
      " 2D)                                                             \n",
      "                                                                 \n",
      " flatten (Flatten)           (None, 6272)              0         \n",
      "                                                                 \n",
      " dense (Dense)               (None, 512)               3211776   \n",
      "                                                                 \n",
      " dense_1 (Dense)             (None, 1)                 513       \n",
      "                                                                 \n",
      "=================================================================\n",
      "Total params: 3,453,121\n",
      "Trainable params: 3,453,121\n",
      "Non-trainable params: 0\n",
      "_________________________________________________________________\n"
     ]
    }
   ],
   "source": [
    "model.summary()"
   ]
  },
  {
   "cell_type": "code",
   "execution_count": 21,
   "id": "6258d297",
   "metadata": {},
   "outputs": [],
   "source": [
    "from tensorflow.keras.optimizers import RMSprop\n",
    "model.compile(loss='binary_crossentropy',\n",
    "              optimizer=RMSprop(learning_rate=0.0002),\n",
    "             metrics=['acc'])"
   ]
  },
  {
   "cell_type": "markdown",
   "id": "a4b2f267",
   "metadata": {},
   "source": [
    "### Preprocess the training and validation images"
   ]
  },
  {
   "cell_type": "code",
   "execution_count": 22,
   "id": "039788ee",
   "metadata": {},
   "outputs": [
    {
     "name": "stdout",
     "output_type": "stream",
     "text": [
      "Found 2000 images belonging to 2 classes.\n",
      "Found 1000 images belonging to 2 classes.\n"
     ]
    }
   ],
   "source": [
    "from tensorflow.keras.preprocessing.image import ImageDataGenerator\n",
    "\n",
    "train_datagen=ImageDataGenerator(rescale=1./255)\n",
    "test_datagen=ImageDataGenerator(rescale=1./255)\n",
    "\n",
    "train_generator=train_datagen.flow_from_directory(\n",
    "train_dir,\n",
    "target_size=(150, 150),\n",
    "batch_size=20,\n",
    "class_mode='binary')\n",
    "\n",
    "validation_generator=test_datagen.flow_from_directory(\n",
    "validation_dir,\n",
    "target_size=(150, 150),\n",
    "batch_size=20,\n",
    "class_mode='binary')"
   ]
  },
  {
   "cell_type": "code",
   "execution_count": 48,
   "id": "bfbdd1fe",
   "metadata": {},
   "outputs": [
    {
     "name": "stdout",
     "output_type": "stream",
     "text": [
      "Epoch 1/30\n",
      "100/100 [==============================] - 58s 572ms/step - loss: 0.6916 - acc: 0.5205 - val_loss: 0.6843 - val_acc: 0.6030\n",
      "Epoch 2/30\n",
      "100/100 [==============================] - 53s 531ms/step - loss: 0.6643 - acc: 0.6015 - val_loss: 0.6598 - val_acc: 0.5640\n",
      "Epoch 3/30\n",
      "100/100 [==============================] - 54s 537ms/step - loss: 0.6138 - acc: 0.6660 - val_loss: 0.6116 - val_acc: 0.6620\n",
      "Epoch 4/30\n",
      "100/100 [==============================] - 54s 544ms/step - loss: 0.5714 - acc: 0.7070 - val_loss: 0.6439 - val_acc: 0.6340\n",
      "Epoch 5/30\n",
      "100/100 [==============================] - 55s 553ms/step - loss: 0.5474 - acc: 0.7215 - val_loss: 0.5926 - val_acc: 0.6750\n",
      "Epoch 6/30\n",
      "100/100 [==============================] - 69s 688ms/step - loss: 0.5108 - acc: 0.7440 - val_loss: 0.5993 - val_acc: 0.6820\n",
      "Epoch 7/30\n",
      "100/100 [==============================] - 60s 597ms/step - loss: 0.4755 - acc: 0.7770 - val_loss: 0.5504 - val_acc: 0.7120\n",
      "Epoch 8/30\n",
      "100/100 [==============================] - 58s 576ms/step - loss: 0.4487 - acc: 0.7855 - val_loss: 0.5443 - val_acc: 0.7260\n",
      "Epoch 9/30\n",
      "100/100 [==============================] - 59s 593ms/step - loss: 0.4130 - acc: 0.8020 - val_loss: 0.5509 - val_acc: 0.7190\n",
      "Epoch 10/30\n",
      "100/100 [==============================] - 58s 585ms/step - loss: 0.3766 - acc: 0.8305 - val_loss: 0.5472 - val_acc: 0.7290\n",
      "Epoch 11/30\n",
      "100/100 [==============================] - 56s 555ms/step - loss: 0.3408 - acc: 0.8435 - val_loss: 0.5504 - val_acc: 0.7390\n",
      "Epoch 12/30\n",
      "100/100 [==============================] - 56s 561ms/step - loss: 0.3124 - acc: 0.8530 - val_loss: 0.5809 - val_acc: 0.7360\n",
      "Epoch 13/30\n",
      "100/100 [==============================] - 55s 553ms/step - loss: 0.2889 - acc: 0.8690 - val_loss: 0.6595 - val_acc: 0.6970\n",
      "Epoch 14/30\n",
      "100/100 [==============================] - 58s 578ms/step - loss: 0.2476 - acc: 0.8990 - val_loss: 0.6322 - val_acc: 0.7320\n",
      "Epoch 15/30\n",
      "100/100 [==============================] - 56s 556ms/step - loss: 0.2238 - acc: 0.9115 - val_loss: 0.6846 - val_acc: 0.7290\n",
      "Epoch 16/30\n",
      "100/100 [==============================] - 56s 558ms/step - loss: 0.1736 - acc: 0.9345 - val_loss: 0.6690 - val_acc: 0.7380\n",
      "Epoch 17/30\n",
      "100/100 [==============================] - 57s 568ms/step - loss: 0.1600 - acc: 0.9420 - val_loss: 0.8564 - val_acc: 0.7260\n",
      "Epoch 18/30\n",
      "100/100 [==============================] - 57s 571ms/step - loss: 0.1273 - acc: 0.9545 - val_loss: 0.7417 - val_acc: 0.7310\n",
      "Epoch 19/30\n",
      "100/100 [==============================] - 57s 569ms/step - loss: 0.1039 - acc: 0.9645 - val_loss: 0.8094 - val_acc: 0.7440\n",
      "Epoch 20/30\n",
      "100/100 [==============================] - 57s 572ms/step - loss: 0.0888 - acc: 0.9710 - val_loss: 0.8540 - val_acc: 0.7440\n",
      "Epoch 21/30\n",
      "100/100 [==============================] - 59s 588ms/step - loss: 0.0726 - acc: 0.9770 - val_loss: 0.9611 - val_acc: 0.7320\n",
      "Epoch 22/30\n",
      "100/100 [==============================] - 59s 587ms/step - loss: 0.0506 - acc: 0.9865 - val_loss: 0.9896 - val_acc: 0.7480\n",
      "Epoch 23/30\n",
      "100/100 [==============================] - 57s 570ms/step - loss: 0.0485 - acc: 0.9845 - val_loss: 1.0582 - val_acc: 0.7350\n",
      "Epoch 24/30\n",
      "100/100 [==============================] - 56s 555ms/step - loss: 0.0451 - acc: 0.9835 - val_loss: 1.0544 - val_acc: 0.7410\n",
      "Epoch 25/30\n",
      "100/100 [==============================] - 55s 551ms/step - loss: 0.0284 - acc: 0.9945 - val_loss: 1.1226 - val_acc: 0.7480\n",
      "Epoch 26/30\n",
      "100/100 [==============================] - 55s 555ms/step - loss: 0.0320 - acc: 0.9880 - val_loss: 1.1975 - val_acc: 0.7360\n",
      "Epoch 27/30\n",
      "100/100 [==============================] - 58s 576ms/step - loss: 0.0233 - acc: 0.9930 - val_loss: 1.2806 - val_acc: 0.7210\n",
      "Epoch 28/30\n",
      "100/100 [==============================] - 56s 561ms/step - loss: 0.0283 - acc: 0.9915 - val_loss: 1.3466 - val_acc: 0.7370\n",
      "Epoch 29/30\n",
      "100/100 [==============================] - 57s 565ms/step - loss: 0.0082 - acc: 0.9980 - val_loss: 1.5015 - val_acc: 0.7380\n",
      "Epoch 30/30\n",
      "100/100 [==============================] - 57s 572ms/step - loss: 0.0177 - acc: 0.9945 - val_loss: 1.5702 - val_acc: 0.7320\n"
     ]
    }
   ],
   "source": [
    "history=model.fit(\n",
    "train_generator,\n",
    "steps_per_epoch=100,\n",
    "epochs=30,\n",
    "validation_data=validation_generator,\n",
    "validation_steps=50)"
   ]
  },
  {
   "cell_type": "code",
   "execution_count": 55,
   "id": "73b1004c",
   "metadata": {},
   "outputs": [],
   "source": [
    "# evaluate the metrics \n",
    "def plot_metrics(history):\n",
    "    import matplotlib.pyplot as plt\n",
    "    acc=history.history['acc']\n",
    "    val_acc=history.history['val_acc']\n",
    "    loss=history.history['loss']\n",
    "    val_loss=history.history['val_loss']\n",
    "    \n",
    "    epochs=range(1, len(acc)+1)\n",
    "    plt.plot(epochs, acc,'bo', label='Training Accuracy')\n",
    "    plt.plot(epochs, val_acc,'b', label='Validation Accuaracy')\n",
    "    plt.title(\"Training vs Validation Accuracy\")\n",
    "    plt.legend()\n",
    "    plt.figure()\n",
    "    plt.plot(epochs, loss, 'bo',label='Training Loss')\n",
    "    plt.plot(epochs, val_loss,'b', label='Validation Loss')\n",
    "    plt.title(\"Training vs Validation Loss\")\n",
    "    plt.legend()\n",
    "    plt.show()"
   ]
  },
  {
   "cell_type": "code",
   "execution_count": 56,
   "id": "b31c1852",
   "metadata": {},
   "outputs": [
    {
     "data": {
      "image/png": "[encoded data removed]",
      "text/plain": [
       "<Figure size 640x480 with 1 Axes>"
      ]
     },
     "metadata": {},
     "output_type": "display_data"
    },
    {
     "data": {
      "image/png": "[encoded data removed]",
      "text/plain": [
       "<Figure size 640x480 with 1 Axes>"
      ]
     },
     "metadata": {},
     "output_type": "display_data"
    }
   ],
   "source": [
    "plot_metrics(history)\n"
   ]
  },
  {
   "cell_type": "code",
   "execution_count": 57,
   "id": "18d4546e",
   "metadata": {},
   "outputs": [],
   "source": [
    "model.save('cats_dogs_small_1.h5')"
   ]
  },
  {
   "cell_type": "code",
   "execution_count": 24,
   "id": "9da39dad",
   "metadata": {},
   "outputs": [],
   "source": [
    "file=\"C:/Users/davidpratap/Desktop/ML_OPS/Day 3&4/image.jpg\""
   ]
  },
  {
   "cell_type": "code",
   "execution_count": 25,
   "id": "077d5ae3",
   "metadata": {},
   "outputs": [],
   "source": [
    "from tensorflow.keras.preprocessing.image import load_img, img_to_array\n"
   ]
  },
  {
   "cell_type": "code",
   "execution_count": 26,
   "id": "ff1f6827",
   "metadata": {},
   "outputs": [
    {
     "ename": "NameError",
     "evalue": "name 'plt' is not defined",
     "output_type": "error",
     "traceback": [
      "\u001b[1;31m---------------------------------------------------------------------------\u001b[0m",
      "\u001b[1;31mNameError\u001b[0m                                 Traceback (most recent call last)",
      "Cell \u001b[1;32mIn[26], line 3\u001b[0m\n\u001b[0;32m      1\u001b[0m \u001b[38;5;28;01mfrom\u001b[39;00m \u001b[38;5;21;01mPIL\u001b[39;00m \u001b[38;5;28;01mimport\u001b[39;00m Image\n\u001b[0;32m      2\u001b[0m image\u001b[38;5;241m=\u001b[39mImage\u001b[38;5;241m.\u001b[39mopen(file)\n\u001b[1;32m----> 3\u001b[0m \u001b[43mplt\u001b[49m\u001b[38;5;241m.\u001b[39mimshow(image)\n",
      "\u001b[1;31mNameError\u001b[0m: name 'plt' is not defined"
     ]
    }
   ],
   "source": [
    "from PIL import Image\n",
    "image=Image.open(file)\n",
    "plt.imshow(image)\n",
    "# image=load_img(file, target_size=(150, 150))\n",
    "# image=img_to_array(image)\n",
    "# image=np.expand_dims(image, axis=0)\n",
    "# model='cats_dogs_small_1.h5'\n",
    "# model=load_model(model)\n",
    "# pred=int(model.predict(image)[0][0])\n",
    "# if pred==1:\n",
    "#     print(\"DOG\")\n",
    "# else:\n",
    "#     print('CAT')"
   ]
  },
  {
   "cell_type": "markdown",
   "id": "7dfe8e32",
   "metadata": {},
   "source": [
    "##### The model is cleaerly overfitting and needs to retrained with Data Augmentation"
   ]
  },
  {
   "cell_type": "markdown",
   "id": "f86ac091",
   "metadata": {},
   "source": [
    "### Modelling with Data Augmentation"
   ]
  },
  {
   "cell_type": "code",
   "execution_count": null,
   "id": "9fee2b76",
   "metadata": {},
   "outputs": [],
   "source": []
  }
 ],
 "metadata": {
  "kernelspec": {
   "display_name": "Python 3 (ipykernel)",
   "language": "python",
   "name": "python3"
  },
  "language_info": {
   "codemirror_mode": {
    "name": "ipython",
    "version": 3
   },
   "file_extension": ".py",
   "mimetype": "text/x-python",
   "name": "python",
   "nbconvert_exporter": "python",
   "pygments_lexer": "ipython3",
   "version": "3.10.8"
  }
 },
 "nbformat": 4,
 "nbformat_minor": 5
}
